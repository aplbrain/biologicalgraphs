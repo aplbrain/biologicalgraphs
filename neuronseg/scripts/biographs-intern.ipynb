{
 "cells": [
  {
   "cell_type": "code",
   "execution_count": null,
   "id": "positive-roulette",
   "metadata": {},
   "outputs": [],
   "source": [
    "# resolution in nm\n",
    "6x6x30\n",
    "# gold filename\n",
    "golds/Kasthuri-test-gold.h5 main\n",
    "# segmentation filename\n",
    "segmentations/Kasthuri-test-segmentation.h5 main\n",
    "# grid size\n",
    "1336x1809x338"
   ]
  },
  {
   "cell_type": "code",
   "execution_count": 1,
   "id": "metric-resistance",
   "metadata": {},
   "outputs": [],
   "source": [
    "import os\n",
    "from intern import array\n",
    "from intern.remote.boss import BossRemote"
   ]
  },
  {
   "cell_type": "code",
   "execution_count": 2,
   "id": "streaming-collection",
   "metadata": {},
   "outputs": [],
   "source": [
    "# Configure intern\n",
    "config = {\"protocol\": \"https\",\n",
    "        \"host\": \"api.bossdb.io\",\n",
    "        \"token\": \"public\"}\n",
    "rmt = BossRemote(config)"
   ]
  },
  {
   "cell_type": "code",
   "execution_count": 3,
   "id": "sustained-blackjack",
   "metadata": {},
   "outputs": [],
   "source": [
    "# Get data from bossdb\n",
    "boss_data = array(\"bossdb://microns/pinky100_8x8x40/segmentation\")\n",
    "cutout = boss_data[1000:1020, 20000:21809, 30000:31336]"
   ]
  },
  {
   "cell_type": "code",
   "execution_count": 19,
   "id": "atlantic-scope",
   "metadata": {},
   "outputs": [
    {
     "data": {
      "text/plain": [
       "(20, 1809, 1336)"
      ]
     },
     "execution_count": 19,
     "metadata": {},
     "output_type": "execute_result"
    }
   ],
   "source": [
    "cutout.shape"
   ]
  },
  {
   "cell_type": "code",
   "execution_count": 15,
   "id": "suited-snowboard",
   "metadata": {},
   "outputs": [
    {
     "data": {
      "text/plain": [
       "'ZYX'"
      ]
     },
     "execution_count": 15,
     "metadata": {},
     "output_type": "execute_result"
    }
   ],
   "source": [
    "boss_data.axis_order"
   ]
  },
  {
   "cell_type": "code",
   "execution_count": 11,
   "id": "divine-cartoon",
   "metadata": {},
   "outputs": [
    {
     "data": {
      "text/plain": [
       "'pinky100_8x8x40'"
      ]
     },
     "execution_count": 11,
     "metadata": {},
     "output_type": "execute_result"
    }
   ],
   "source": [
    "boss_data.experiment_name"
   ]
  },
  {
   "cell_type": "code",
   "execution_count": 12,
   "id": "joint-ottawa",
   "metadata": {},
   "outputs": [
    {
     "data": {
      "text/plain": [
       "'uint64'"
      ]
     },
     "execution_count": 12,
     "metadata": {},
     "output_type": "execute_result"
    }
   ],
   "source": [
    "boss_data.dtype"
   ]
  },
  {
   "cell_type": "code",
   "execution_count": 13,
   "id": "indirect-exposure",
   "metadata": {},
   "outputs": [
    {
     "data": {
      "text/plain": [
       "((40.0, 8.0, 8.0), 'nanometers')"
      ]
     },
     "execution_count": 13,
     "metadata": {},
     "output_type": "execute_result"
    }
   ],
   "source": [
    "boss_data.voxel_size"
   ]
  },
  {
   "cell_type": "code",
   "execution_count": 18,
   "id": "honest-gossip",
   "metadata": {},
   "outputs": [
    {
     "data": {
      "text/plain": [
       "40.0"
      ]
     },
     "execution_count": 18,
     "metadata": {},
     "output_type": "execute_result"
    }
   ],
   "source": [
    "boss_data.voxel_size[0][0]"
   ]
  },
  {
   "cell_type": "code",
   "execution_count": null,
   "id": "dried-press",
   "metadata": {},
   "outputs": [],
   "source": [
    "pinky_meta = open(\"../Pinky-test.meta\", \"w\")\n",
    "pinky_meta.write(\"# resolution in nm\\n 6x6x30\\n  # segmentation filename\\n segmentations/Pinky-test-segmentation.h5 main\\n # grid size\\n 1336x1809x20\")\n",
    "pinky_meta.close() "
   ]
  },
  {
   "cell_type": "markdown",
   "id": "saved-fortune",
   "metadata": {},
   "source": [
    "### MetaFile Writer (Biographs)"
   ]
  },
  {
   "cell_type": "code",
   "execution_count": 20,
   "id": "fancy-october",
   "metadata": {},
   "outputs": [],
   "source": [
    "def WriteBossMetaFile(array, cutout, prefix):\n",
    "    meta_filename = 'meta/{}-prefix.meta'.format(array.experiment_name)\n",
    "\n",
    "    with open(meta_filename, 'w') as fd:\n",
    "        # write the resolution in x, y, z order\n",
    "        fd.write('# resolution in nm\\n')\n",
    "        fd.write('{}x{}x{}\\n'.format(array.voxel_size[0][2], array.voxel_size[0][1], array.voxel_size[0][0]))\n",
    "\n",
    "        fd.write('# segmentation filename\\n')\n",
    "        fd.write('{}-{}-segmentation.h5 main\\n'.format(array.experiment_name, prefix))\n",
    "\n",
    "        # write the grid size in x, y, z order\n",
    "        fd.write('# grid size\\n')\n",
    "        fd.write('{}x{}x{}\\n'.format(cutout.shape[2], cutout.shape[1], cutout.shape[0]))"
   ]
  },
  {
   "cell_type": "code",
   "execution_count": 23,
   "id": "amazing-accommodation",
   "metadata": {},
   "outputs": [
    {
     "data": {
      "text/plain": [
       "'/Users/lunada1/Documents/APL_Brain/biologicalgraphs/biologicalgraphs/neuronseg/scripts'"
      ]
     },
     "execution_count": 23,
     "metadata": {},
     "output_type": "execute_result"
    }
   ],
   "source": [
    "os.getcwd()"
   ]
  },
  {
   "cell_type": "code",
   "execution_count": 21,
   "id": "curious-confusion",
   "metadata": {},
   "outputs": [
    {
     "ename": "FileNotFoundError",
     "evalue": "[Errno 2] No such file or directory: 'meta/pinky100_8x8x40.meta'",
     "output_type": "error",
     "traceback": [
      "\u001b[0;31m---------------------------------------------------------------------------\u001b[0m",
      "\u001b[0;31mFileNotFoundError\u001b[0m                         Traceback (most recent call last)",
      "\u001b[0;32m<ipython-input-21-f6e546ee5f2b>\u001b[0m in \u001b[0;36m<module>\u001b[0;34m\u001b[0m\n\u001b[0;32m----> 1\u001b[0;31m \u001b[0mWriteBossMetaFile\u001b[0m\u001b[0;34m(\u001b[0m\u001b[0mboss_data\u001b[0m\u001b[0;34m,\u001b[0m \u001b[0mcutout\u001b[0m\u001b[0;34m,\u001b[0m \u001b[0;34m'test'\u001b[0m\u001b[0;34m)\u001b[0m\u001b[0;34m\u001b[0m\u001b[0;34m\u001b[0m\u001b[0m\n\u001b[0m",
      "\u001b[0;32m<ipython-input-20-36ffc14c3a34>\u001b[0m in \u001b[0;36mWriteBossMetaFile\u001b[0;34m(array, cutout, prefix)\u001b[0m\n\u001b[1;32m      2\u001b[0m     \u001b[0mmeta_filename\u001b[0m \u001b[0;34m=\u001b[0m \u001b[0;34m'meta/{}.meta'\u001b[0m\u001b[0;34m.\u001b[0m\u001b[0mformat\u001b[0m\u001b[0;34m(\u001b[0m\u001b[0marray\u001b[0m\u001b[0;34m.\u001b[0m\u001b[0mexperiment_name\u001b[0m\u001b[0;34m)\u001b[0m\u001b[0;34m\u001b[0m\u001b[0;34m\u001b[0m\u001b[0m\n\u001b[1;32m      3\u001b[0m \u001b[0;34m\u001b[0m\u001b[0m\n\u001b[0;32m----> 4\u001b[0;31m     \u001b[0;32mwith\u001b[0m \u001b[0mopen\u001b[0m\u001b[0;34m(\u001b[0m\u001b[0mmeta_filename\u001b[0m\u001b[0;34m,\u001b[0m \u001b[0;34m'w'\u001b[0m\u001b[0;34m)\u001b[0m \u001b[0;32mas\u001b[0m \u001b[0mfd\u001b[0m\u001b[0;34m:\u001b[0m\u001b[0;34m\u001b[0m\u001b[0;34m\u001b[0m\u001b[0m\n\u001b[0m\u001b[1;32m      5\u001b[0m         \u001b[0;31m# write the resolution in x, y, z order\u001b[0m\u001b[0;34m\u001b[0m\u001b[0;34m\u001b[0m\u001b[0;34m\u001b[0m\u001b[0m\n\u001b[1;32m      6\u001b[0m         \u001b[0mfd\u001b[0m\u001b[0;34m.\u001b[0m\u001b[0mwrite\u001b[0m\u001b[0;34m(\u001b[0m\u001b[0;34m'# resolution in nm\\n'\u001b[0m\u001b[0;34m)\u001b[0m\u001b[0;34m\u001b[0m\u001b[0;34m\u001b[0m\u001b[0m\n",
      "\u001b[0;31mFileNotFoundError\u001b[0m: [Errno 2] No such file or directory: 'meta/pinky100_8x8x40.meta'"
     ]
    }
   ],
   "source": [
    "WriteBossMetaFile(boss_data, cutout, 'test')"
   ]
  },
  {
   "cell_type": "code",
   "execution_count": null,
   "id": "lined-asset",
   "metadata": {},
   "outputs": [],
   "source": []
  }
 ],
 "metadata": {
  "kernelspec": {
   "display_name": "apl-brain",
   "language": "python",
   "name": "apl-brain"
  },
  "language_info": {
   "codemirror_mode": {
    "name": "ipython",
    "version": 3
   },
   "file_extension": ".py",
   "mimetype": "text/x-python",
   "name": "python",
   "nbconvert_exporter": "python",
   "pygments_lexer": "ipython3",
   "version": "3.8.2"
  }
 },
 "nbformat": 4,
 "nbformat_minor": 5
}
